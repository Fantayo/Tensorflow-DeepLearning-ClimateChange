{
  "cells": [
    {
      "attachments": {},
      "cell_type": "markdown",
      "metadata": {},
      "source": [
        "# Forecasting in TensorFlow\n",
        "\n",
        "<!--<badge>--><a href=\"https://colab.research.google.com/github/TheAIDojo/AI_4_Climate_Bootcamp/blob/main/Week 05 - Advanced ML Applications/1. Forecasting.ipynb\" target=\"_parent\"><img src=\"https://colab.research.google.com/assets/colab-badge.svg\" alt=\"Open In Colab\"/></a><!--</badge>-->\n",
        "\n",
        "In this notebook, we'll explore the basics of time series forecasting using TensorFlow. Time series forecasting is the process of predicting future values based on past observations. It is widely used in areas such as finance, economics, and climate change.\n",
        "\n",
        "We'll start by discussing the different types of time series and the challenges associated with time series forecasting. Then, we'll cover the basics of TensorFlow and how to use it for time series forecasting. Finally, we'll build a simple time series forecasting model using TensorFlow and evaluate its performance.\n",
        "\n",
        "By the end of this notebook, you will have a good understanding of how to use TensorFlow for time series forecasting and how to build a simple forecasting model.\n",
        "\n",
        "* [Time Series Forecasting with TensorFlow])(https://www.tensorflow.org/tutorials/structured_data/time_series)\n",
        "\n",
        "\n",
        "## Table of Contents <a name=\"toc\"></a>\n",
        "- [Dataset Download & Preparation](#dataset)\n",
        "  - [Exploratory Data Analysis](#eda)\n",
        "  - [Data Preprocessing](#preprocessing)\n",
        "    - [Standardization](#standardization)\n",
        "    - [Train-Test Split](#train_test_split)\n",
        "    - [Windowing](#windowing)\n",
        "- [Model Building](#model_building)"
      ]
    },
    {
      "cell_type": "code",
      "execution_count": 1,
      "metadata": {},
      "outputs": [],
      "source": [
        "import numpy as np\n",
        "import pandas as pd\n",
        "import matplotlib.pyplot as plt\n",
        "import tensorflow as tf\n",
        "from sklearn import model_selection, preprocessing"
      ]
    },
    {
      "att