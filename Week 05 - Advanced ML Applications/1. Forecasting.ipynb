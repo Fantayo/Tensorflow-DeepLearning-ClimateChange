{
  "cells": [
    {
      "attachments": {},
      "cell_type": "markdown",
      "metadata": {},
      "source": [
        "# Forecasting in TensorFlow\n",
        "\n",
        "<!--<badge>--><a href=\"https://colab.research.google.com/github/TheAIDojo/AI_4_Climate_Bootcamp/blob/main/Week 05 - Advanced ML Applications/1. Forecasting.ipynb\" target=\"_parent\"><img src=\"https://colab.research.google.com