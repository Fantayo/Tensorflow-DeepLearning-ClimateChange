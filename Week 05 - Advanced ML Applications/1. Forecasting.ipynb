{
  "cells": [
    {
      "attachments": {},
      "cell_type": "markdown",
      "metadata": {},
      "source": [
        "# Forecasting in TensorFlow\n",
        "\n",
        "<!--<badge>--><a href=\"https://colab.research.google.com/github/TheAIDojo/AI_4_Climate_Bootcamp/blob/main/Week 05 - Advanced ML Applications/1. Forecasting.ipynb\" target=\"_parent\"><img src=\"https://colab.research.google.com/assets/colab-badge.svg\" alt=\"Open In Colab\"/></a><!--</badge>-->\n",
        "\n",
        "In this notebook, we'll explore the basics of time series forecasting using TensorFlow. Time series forecasting is the process of predicting future values based on past observations. It is widely used in areas such as finance, economics, and climate change.\n",
        "\n",
        "We'll start by discussing the different types of time series and the challenges associated with time series forecasting. Then, we'll cover the basics of TensorFlow and how to use it for time series forecasting. Finally, we'll build a simple time series forecasting model using TensorFlow and evaluate its performance.\n",
        "\n",
        "By the end of this notebook, you will have a good understanding of how to use TensorFlow for time series forecasting and how to build a simple forecasting model.\n",
        "\n",
        "* [Time Series Forecasting with TensorFlow])(https://www.tensorflow.org/tutorials/structured_data/time_series)\n",
        "\n",
        "\n",
        "## Table of Contents <a name=\"toc\"></a>\n",
        "- [Dataset Download & Preparation](#dataset)\n",
        "  - [Exploratory Data Analysis](#eda)\n",
        "  - [Data Preprocessing](#preprocessing)\n",
        "    - [Standardization](#standardization)\n",
        "    - [Train-Test Split](#train_test_split)\n",
        "    - [Windowing](#windowing)\n",
        "- [Model Building](#model_building)"
      ]
    },
    {
      "cell_type": "code",
      "execution_count": 1,
      "metadata": {},
      "outputs": [],
      "source": [
        "import numpy as np\n",
        "import pandas as pd\n",
        "import matplotlib.pyplot as plt\n",
        "import tensorflow as tf\n",
        "from sklearn import model_selection, preprocessing"
      ]
    },
    {
      "attachments": {},
      "cell_type": "markdown",
      "metadata": {},
      "source": [
        "## Dataset Download & Preparation <a name=\"dataset\"></a>\n",
        "[Back to Top](#toc)\n",
        "\n",
        "We will be using `jena_climate_2009_2016` dataset is a time series dataset that contains 14 climate-related variables, such as temperature, pressure, and humidity, recorded every 10 minutes from 2009 to 2016 in Jena, Germany. The dataset is commonly used for time series forecasting and provides a good starting point for learning about time series forecasting.\n",
        "\n",
        "The dataset contains 420,551 records, where each record contains 14 variables and a timestamp. The variables are:\n",
        "\n",
        "- `Date Time`: Timestamp of the record\n",
        "- `p (mbar)`: Pressure in millibars\n",
        "- `T (degC)`: Temperature in degrees Celsius\n",
        "- `Tpot (K)`: Temperature potential in Kelvin\n",
        "- `Tdew (degC)`: Dew 